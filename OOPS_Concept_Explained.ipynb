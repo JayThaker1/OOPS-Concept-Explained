{
  "nbformat": 4,
  "nbformat_minor": 0,
  "metadata": {
    "colab": {
      "name": "OOPS Concept Explained.ipynb",
      "provenance": [],
      "collapsed_sections": []
    },
    "kernelspec": {
      "name": "python3",
      "display_name": "Python 3"
    },
    "language_info": {
      "name": "python"
    }
  },
  "cells": [
    {
      "cell_type": "markdown",
      "metadata": {
        "id": "JsDBpRq6Vir5"
      },
      "source": [
        "## **Object Oriented Programming System (OOPS Concept)**"
      ]
    },
    {
      "cell_type": "markdown",
      "metadata": {
        "id": "mF_PCl_vV47u"
      },
      "source": [
        "**Some Terminologies:**\n",
        "\n",
        "- ***Object*** = Anything that has Attributes, Behaviour and/or Properties\n",
        "- ***Class*** =  It is a blue print that is like a common template where we can fit objects to play around with its attributes, behaviour and /or properties.\n",
        "- ***Functions*** =  It starts with \"def\" and it is used to create an operation for a given object to do certain activity. We can make repeated use of function for various objects rather than writing a same code again and again.\n",
        "- ***Methods*** = Function, when used in OOPs concept is called Methods. They start with \"def\" like in Functions. A method is called using .method_name()\n",
        "- ***self*** = when the function has to take reference from itself we use : \"def Add(self):\"\n",
        "- ***variable*** = Variables in OOPS are used to denote the attribute, behavior or properties of a Class or Method."
      ]
    },
    {
      "cell_type": "markdown",
      "metadata": {
        "id": "G5iMJj6vWc0m"
      },
      "source": [
        " **Types of Cases:**\n",
        "- ***Snake Case***: \"get_user\"\n",
        "- ***Camel Case***: \"getUser\"\n",
        "- ***Pascal Case***: \"GetUser\"\n",
        "\n",
        "Case plays an important role in writing a Class and a Method.\n",
        "It is a common practice to write a Class with Pascal Case only where as A Method with a Snake Case only."
      ]
    },
    {
      "cell_type": "code",
      "metadata": {
        "colab": {
          "base_uri": "https://localhost:8080/"
        },
        "id": "rKskTg-mQYVQ",
        "outputId": "320237c8-472b-4aef-9f0a-ae93ac2d2edd"
      },
      "source": [
        "# This is the basic way of creating a class.\n",
        "\n",
        "class Human:\n",
        "  def set_name(self,name):\n",
        "    self.name = name\n",
        "\n",
        "  def set_gender(self,gender):\n",
        "    self.gender = gender\n",
        "\n",
        "  def set_age(self,age):\n",
        "    self.age = age\n",
        "\n",
        "  def get_info(self):\n",
        "    return (self.name +\", \"+ self.age +\", \"+ self.gender)\n",
        "  \n",
        "# Assigning values to the class\n",
        "\n",
        "man = Human()       # Here Class Human is assigned to the variable man\n",
        "man.set_name(\"Jay\") # Here we assign name to the variable using .set_name method\n",
        "man.set_age('36')\n",
        "man.set_gender('Male')\n",
        "\n",
        "print(man.get_info())\n",
        "\n",
        "man2 = Human()\n",
        "man2.set_name(\"Dhaivat\")\n",
        "man2.set_age('35')\n",
        "man2.set_gender('Male')\n",
        "\n",
        "print(man2.get_info())"
      ],
      "execution_count": null,
      "outputs": [
        {
          "output_type": "stream",
          "text": [
            "Jay, 36, Male\n",
            "Dhaivat, 35, Male\n"
          ],
          "name": "stdout"
        }
      ]
    },
    {
      "cell_type": "markdown",
      "metadata": {
        "id": "_wjupO-Vtxpt"
      },
      "source": [
        "## Constructor\n",
        "- Constructor is used to initiate the process of parameter.\n",
        "- Constructors are created by using \"**def** __**init** __ **(self)**\"  Method.\n",
        "- It is basically a methods that executes in the class itself.\n",
        "- It helps in shorten the code."
      ]
    },
    {
      "cell_type": "code",
      "metadata": {
        "colab": {
          "base_uri": "https://localhost:8080/"
        },
        "id": "4hV_GoUsV0Q8",
        "outputId": "2f041981-ea8d-469c-d49c-8dc5a3d8facc"
      },
      "source": [
        "# This is the way of creating a class using Constructor.\n",
        "\n",
        "class Human:\n",
        "  def __init__(self, name, gender, age):\n",
        "    self.name = name\n",
        "    self.gender = gender\n",
        "    self.age = age\n",
        "\n",
        "  def get_info(self):\n",
        "    return (self.name +\", \"+ self.age +\", \"+ self.gender)\n",
        "  \n",
        "# Assigning values to the class\n",
        "# Here Class Human is assigned to the variable man and give it the attributes \n",
        "# here itself\n",
        "\n",
        "man = Human(\"Jay\",\"36\",\"Male\")\n",
        "print(man.get_info())\n",
        "\n",
        "man2 = Human('Dhaivat',\"36\",\"Male\")\n",
        "print(man2.get_info())\n",
        "\n",
        "# As you can see this is the same code as above and functions in the same way.\n",
        "# but the way of writing the code using a Constructor is way shorter and easier."
      ],
      "execution_count": null,
      "outputs": [
        {
          "output_type": "stream",
          "text": [
            "Jay, Male, 36\n",
            "Dhaivat, Male, 36\n"
          ],
          "name": "stdout"
        }
      ]
    },
    {
      "cell_type": "markdown",
      "metadata": {
        "id": "Tcxo8beuTeyE"
      },
      "source": [
        "# **Main Class ()**\n",
        "- When we import a class and its method. It will execute that method as well as the code outside the method in a class.\n",
        "- So if we want the keep this code that is outside the method and inside the class to be locally executable, we use main() function.\n",
        "- ***if __ name__ == \"__ main__\"():*** is used in such cases.\n",
        "- All the local arguments should be kept under this if statement so when the class is executed locally it will run the entire code but when imported it will run the method excluding the main() content."
      ]
    },
    {
      "cell_type": "code",
      "metadata": {
        "colab": {
          "base_uri": "https://localhost:8080/"
        },
        "id": "IWo0Ro-VdIrJ",
        "outputId": "73ec732e-8656-4fb1-cefc-3e2aa2d6a770"
      },
      "source": [
        "# Here we make 2 functions:\n",
        "\n",
        "def person(string):\n",
        "  return f\"{string} is a Good Boy\"\n",
        "\n",
        "def add(num1,num2):\n",
        "  return num1+num2\n",
        "\n",
        "print (person('Jay'))     # Here we are calling functions\n",
        "number = add(5,4)\n",
        "print(number)\n",
        "\n",
        "# Now if we import and execute any 1 of this functions, it will also run \n",
        "# print command that are given which are not in the function. So to make the \n",
        "# print command run locally we use main() function\n",
        "\n",
        "def person(string):\n",
        "  return f\"{string} is a Good Boy\"\n",
        "\n",
        "def add(num1,num2):\n",
        "  return num1+num2\n",
        "\n",
        "if __name__ == \"__main__\":\n",
        "  print (person('Jay'))     # Here we are calling functions\n",
        "  number = add(5,4)\n",
        "  print(number)\n",
        "\n",
        "# This will make the main function locally and it will not execute when imported."
      ],
      "execution_count": 7,
      "outputs": [
        {
          "output_type": "stream",
          "text": [
            "Jay is a Good Boy\n",
            "9\n",
            "Jay is a Good Boy\n",
            "9\n"
          ],
          "name": "stdout"
        }
      ]
    },
    {
      "cell_type": "markdown",
      "metadata": {
        "id": "7S3ptHKu4eGT"
      },
      "source": [
        "## Args and Kwargs\n",
        "- Any keyword with 1 * ahead of it is passed as Tuple\n",
        "- Any keyword with 2 * ahead of it is passed as Dictionary\n",
        "- Using args and kwargs shortens the code even further."
      ]
    },
    {
      "cell_type": "markdown",
      "metadata": {
        "id": "v0Vy74mxAlB8"
      },
      "source": [
        "###**Using  *args** (for tuple)"
      ]
    },
    {
      "cell_type": "code",
      "metadata": {
        "colab": {
          "base_uri": "https://localhost:8080/"
        },
        "id": "oDleRCJoyUxg",
        "outputId": "d7c60cf8-3991-448d-9e2b-061773055851"
      },
      "source": [
        "# Here we are writing a class using *args.\n",
        "# Any word or letter can be used in place of args eg: *x\n",
        "\n",
        "class Human:\n",
        "  def __init__(self, *args):\n",
        "    self.name = args[0]\n",
        "    self.gender = args[1]\n",
        "    self.age = args[2]\n",
        "\n",
        "  def get_info(self):\n",
        "    return (self.name +\", \"+ self.age +\", \"+ self.gender)\n",
        "\n",
        "# Assigning values to the class\n",
        "# Here Class Human is assigned to the variable man and give it the attributes \n",
        "# here itself\n",
        "\n",
        "man = Human(\"Jay\",\"36\",\"Male\")\n",
        "print(man.get_info())\n",
        "\n",
        "man2 = Human('Dhaivat',\"36\",\"Male\")\n",
        "print(man2.get_info())\n",
        "\n",
        "\n",
        "# This definately shortens the code but if the order of the input is changed\n",
        "#  name will print age, age will print gender and gender will print name\n",
        "# This method is mostly used when we have a data in a same order format.\n"
      ],
      "execution_count": null,
      "outputs": [
        {
          "output_type": "stream",
          "text": [
            "Jay, Male, 36\n",
            "Dhaivat, Male, 36\n"
          ],
          "name": "stdout"
        }
      ]
    },
    {
      "cell_type": "markdown",
      "metadata": {
        "id": "qm7LoY9CA4oP"
      },
      "source": [
        "### **Using **kwargs** (for Dictionary)"
      ]
    },
    {
      "cell_type": "code",
      "metadata": {
        "colab": {
          "base_uri": "https://localhost:8080/"
        },
        "id": "BBLycPRQ7ea9",
        "outputId": "fc102f0a-e1ac-44b5-902b-c3fe2e93a557"
      },
      "source": [
        "# Args have a high chances of mistake in assigning values.\n",
        "# So in that case we can use kwargs as it is a key:value pair.\n",
        "# Any word or letter can be used in place of kwargs eg: **x\n",
        "\n",
        "class Human:\n",
        "  def __init__(self, **kargs):\n",
        "    self.data = kargs\n",
        "\n",
        "  def get_info(self):\n",
        "    return (self.data[\"name\"] +\", \"+ self.data[\"age\"] +\", \"+ self.data[\"gender\"])\n",
        "\n",
        "# Assigning values to the class\n",
        "# Here Class Human is assigned to the variable man and give it the attributes \n",
        "# here itself\n",
        "\n",
        "man = Human(name=\"Jay\",age=\"36\",gender=\"Male\")\n",
        "print(man.get_info())\n",
        "\n",
        "man2 = Human(name='Dhaivat',age=\"36\",gender=\"Male\")\n",
        "print(man2.get_info())\n",
        "\n",
        "# So as we can see here we defined the values while assigning the values.\n",
        "# This method is mostly used when we have a data in a dictionary format. "
      ],
      "execution_count": null,
      "outputs": [
        {
          "output_type": "stream",
          "text": [
            "Jay, 36, Male\n",
            "Dhaivat, 36, Male\n"
          ],
          "name": "stdout"
        }
      ]
    },
    {
      "cell_type": "markdown",
      "metadata": {
        "id": "FZv16WSneMxf"
      },
      "source": [
        "# **Encapsulation**\n",
        "- It is a way to privatize your variable so others cannot alter it easily.\n",
        "- This step is called creating ***Private Variable***.\n",
        "- It is denoted by ***self.__variable = variable***. (double underscore)\n",
        "- Though it can be altered if you know the class.\n",
        "- It can be done using ***self._class-name__variable = variable*** (adding _class-name)\n"
      ]
    },
    {
      "cell_type": "code",
      "metadata": {
        "colab": {
          "base_uri": "https://localhost:8080/"
        },
        "id": "P1TTj1p8_Isb",
        "outputId": "2a51fa2f-5e04-4a5f-f379-db0989edadb1"
      },
      "source": [
        "class Human:\n",
        "  def __init__(self, name, gender, age):\n",
        "    self.__name = name\n",
        "    self.__gender = gender\n",
        "    self.__age = age\n",
        "\n",
        "  def get_info(self):\n",
        "    return (self.__name +\", \"+ self.__age +\", \"+ self.__gender)\n",
        "\n",
        "man = Human(\"Jay\",\"Male\",\"36\") # Assigning variables to the class Human\n",
        "\n",
        "print (man.get_info())\n",
        "man.name = \"Dhaivat\"\n",
        "print (man.get_info())\n",
        "\n",
        "# As you can see even if we tried to alter name from Jay to Dhaivat the output \n",
        "# still remains the same "
      ],
      "execution_count": null,
      "outputs": [
        {
          "output_type": "stream",
          "text": [
            "Jay, 36, Male\n",
            "Jay, 36, Male\n"
          ],
          "name": "stdout"
        }
      ]
    },
    {
      "cell_type": "code",
      "metadata": {
        "colab": {
          "base_uri": "https://localhost:8080/"
        },
        "id": "yuw8wdfVj5Ha",
        "outputId": "d9cb93af-01da-4ec8-df9c-e519f387502f"
      },
      "source": [
        "class Human:\n",
        "  def __init__(self, name, gender, age):\n",
        "    self.__name = name\n",
        "    self.__gender = gender\n",
        "    self.__age = age\n",
        "\n",
        "  def get_info(self):\n",
        "    return (self.__name +\", \"+ self.__age +\", \"+ self.__gender)\n",
        "\n",
        "man = Human(\"Jay\",\"Male\",\"36\") # Assigning variables to the class Human\n",
        "\n",
        "print (man.get_info())\n",
        "man._Human__name = \"Dhaivat\"\n",
        "man._Human__age = \"35\"\n",
        "print (man.get_info())\n",
        "\n",
        "# As we can see here we have successfully altered the Encaptulated Variables."
      ],
      "execution_count": null,
      "outputs": [
        {
          "output_type": "stream",
          "text": [
            "Jay, 36, Male\n",
            "Dhaivat, 35, Male\n"
          ],
          "name": "stdout"
        }
      ]
    },
    {
      "cell_type": "markdown",
      "metadata": {
        "id": "HjE70RrxZy0S"
      },
      "source": [
        "In the above scenario we came to know that even after encaptulation we can access the variable that is protected. So to get the best level of protection possible we use 2 methods: "
      ]
    },
    {
      "cell_type": "markdown",
      "metadata": {
        "id": "zNmfKyEaa26N"
      },
      "source": [
        "### **Setter and Getter Method**\n",
        "- Setter method is also known as Mutator Method\n",
        "- Getter method is also known as Accessor Method\n",
        "- To do this we first create a method that will set the new value and then we get the value by creating a get method.\n",
        "- In this way we can hide our Encaptulation Method. "
      ]
    },
    {
      "cell_type": "code",
      "metadata": {
        "id": "Bi_1gDFnlgUd",
        "colab": {
          "base_uri": "https://localhost:8080/"
        },
        "outputId": "4431c696-7ec5-4ff0-d557-7da3a14dbfae"
      },
      "source": [
        "class SetterGetter:\n",
        "  def __init__(self):\n",
        "    self.__num = 5\n",
        "\n",
        "  def set_num(self, num):    # Here implementing the setter method\n",
        "    self.__num = num\n",
        "\n",
        "  def get_num(self):\n",
        "    return self.__num\n",
        "\n",
        "# Assigning the Values\n",
        "\n",
        "obj = SetterGetter()\n",
        "print(obj.get_num())\n",
        "\n",
        "# and if you wish to update the value you can use:\n",
        "\n",
        "obj.set_num(10)\n",
        "print (obj.get_num())"
      ],
      "execution_count": null,
      "outputs": [
        {
          "output_type": "stream",
          "text": [
            "5\n",
            "10\n"
          ],
          "name": "stdout"
        }
      ]
    },
    {
      "cell_type": "markdown",
      "metadata": {
        "id": "MqQ7LVXK_tYr"
      },
      "source": [
        "## Types of Variable in Object Oriented Programming (OOPS)\n",
        "- Instance Variable\n",
        "- Class / Static Variable\n",
        "- Variable that is available inside a method is called Instance Variable.\n",
        "- Variable that is available inside the Class but outside a Method is Class Variable."
      ]
    },
    {
      "cell_type": "code",
      "metadata": {
        "colab": {
          "base_uri": "https://localhost:8080/"
        },
        "id": "v7cdgNIL9eiF",
        "outputId": "a3285f51-bbcc-4e16-dfa0-7bda058099c0"
      },
      "source": [
        "class Car:\n",
        "  # Here \"body\" is a Class / Static Variable\n",
        "  body = 'Carbon Fiber'\n",
        "  def __init__(self):\n",
        "    # Here variable \"cartype\" and \"milage\" are Instance Variable\n",
        "    self.cartype = 'Mercedes'\n",
        "    self.milage = '12'\n",
        "\n",
        "C1 = Car()\n",
        "print(C1.cartype)\n",
        "print(C1.body)\n",
        "print (C1.milage)"
      ],
      "execution_count": null,
      "outputs": [
        {
          "output_type": "stream",
          "text": [
            "Mercedes\n",
            "Carbon Fiber\n",
            "12\n"
          ],
          "name": "stdout"
        }
      ]
    },
    {
      "cell_type": "markdown",
      "metadata": {
        "id": "XpywicP6HZ2V"
      },
      "source": [
        "## Types of Method in OOPS:\n",
        "- Instance Method\n",
        "- Class Method\n",
        "- Static Method\n",
        "- *Setter and Getter Method is a apart of Instance Method (refer above)*"
      ]
    },
    {
      "cell_type": "markdown",
      "metadata": {
        "id": "JhE7lL1s11Kv"
      },
      "source": [
        "**Instance Method**"
      ]
    },
    {
      "cell_type": "code",
      "metadata": {
        "colab": {
          "base_uri": "https://localhost:8080/"
        },
        "id": "qA08kqOVDUyr",
        "outputId": "ca2c6186-4d12-4539-e1e8-2e510c15ce7b"
      },
      "source": [
        "class Student:\n",
        "  def __init__(self,m1,m2,m3,m4):\n",
        "    self.m1 = m1\n",
        "    self.m2 = m2\n",
        "    self.m3 = m3\n",
        "    self.m4 = m4\n",
        "\n",
        "  # Here get_avg_marks is an Instance Method as it refers to itself (self)\n",
        "  def get_avg_marks(self):\n",
        "    return ((self.m1+self.m2+self.m3+self.m4) / 4)\n",
        "\n",
        "Ram  = Student(65,72,88,94)\n",
        "Shyam = Student(45,36,58,49)\n",
        "\n",
        "print (Ram.get_avg_marks())\n",
        "print (Shyam.get_avg_marks())"
      ],
      "execution_count": null,
      "outputs": [
        {
          "output_type": "stream",
          "text": [
            "79.75\n",
            "47.0\n"
          ],
          "name": "stdout"
        }
      ]
    },
    {
      "cell_type": "markdown",
      "metadata": {
        "id": "SvLjTrDV19bj"
      },
      "source": [
        "**Class Method using Decorators**"
      ]
    },
    {
      "cell_type": "code",
      "metadata": {
        "id": "fOUhpAU0J-X0",
        "colab": {
          "base_uri": "https://localhost:8080/"
        },
        "outputId": "99e53d77-8714-4b6c-d074-7c513263df3b"
      },
      "source": [
        "class Student:\n",
        "  college = 'MET League of Colleges'\n",
        "  def __init__(self,m1,m2,m3,m4):\n",
        "    self.m1 = m1\n",
        "    self.m2 = m2\n",
        "    self.m3 = m3\n",
        "    self.m4 = m4\n",
        "\n",
        "  # Here get_avg_marks is an Instance Method as it refers to itself (self)\n",
        "  def get_avg_marks(self):\n",
        "    return ((self.m1+self.m2+self.m3+self.m4) / 4)\n",
        "\n",
        "# From the above example, now we will try to understand Class Method\n",
        "  \n",
        "# Whenever we create a class method we first write a Decorator \n",
        "\n",
        "  @classmethod         # <= This is called Decorator.\n",
        "  def get_college(cls):\n",
        "    return cls.college\n",
        "\n",
        "print(Student.get_college())"
      ],
      "execution_count": null,
      "outputs": [
        {
          "output_type": "stream",
          "text": [
            "MET League of Colleges\n"
          ],
          "name": "stdout"
        }
      ]
    },
    {
      "cell_type": "markdown",
      "metadata": {
        "id": "yMqnDTTU7O8U"
      },
      "source": [
        "**Static Method using Decorator**"
      ]
    },
    {
      "cell_type": "code",
      "metadata": {
        "colab": {
          "base_uri": "https://localhost:8080/"
        },
        "id": "64LgfrLn0eAF",
        "outputId": "8492a266-f69c-4c24-82e9-4b1e0cce30c3"
      },
      "source": [
        "class Student:\n",
        "  college = 'MET League of Colleges'\n",
        "  def __init__(self,m1,m2,m3,m4):\n",
        "    self.m1 = m1\n",
        "    self.m2 = m2\n",
        "    self.m3 = m3\n",
        "    self.m4 = m4\n",
        "\n",
        "  # Here get_avg_marks is an Instance Method as it refers to itself (self)\n",
        "  def get_avg_marks(self):\n",
        "    return ((self.m1+self.m2+self.m3+self.m4) / 4)\n",
        "\n",
        "# From the above example, now we will try to understand Static Method\n",
        "# Static Method is in the class but not dependent on class values\n",
        "# It generates its self created values \n",
        "# Whenever we create a Static method we first write a Decorator \n",
        "\n",
        "  @staticmethod         # <= This is called Decorator.\n",
        "  def static_demo():\n",
        "    print (\"This is a Static Method\")\n",
        "\n",
        "ram = Student(78,79,80,81)\n",
        "\n",
        "Student.static_demo()\n",
        "ram.static_demo()"
      ],
      "execution_count": null,
      "outputs": [
        {
          "output_type": "stream",
          "text": [
            "This is a Static Method\n",
            "This is a Static Method\n"
          ],
          "name": "stdout"
        }
      ]
    },
    {
      "cell_type": "markdown",
      "metadata": {
        "id": "m0HdsIUy-XLI"
      },
      "source": [
        "# Class inside a Class\n",
        "- It consist of 2 parts \"Outer Class\" and \"Innner Class\"\n",
        "- Inner Class is created inside an Outer Class\n",
        "- A variable is created pointing towards the Inner Class.\n",
        "- We call this variable to access the Inner Class."
      ]
    },
    {
      "cell_type": "code",
      "metadata": {
        "id": "T5_08kIe8pj9",
        "colab": {
          "base_uri": "https://localhost:8080/"
        },
        "outputId": "f5d58d84-482c-4181-acbf-bbb766a2509a"
      },
      "source": [
        "class Human:                    # Outer Class\n",
        "  def __init__(self,name,age):\n",
        "    self.name = name\n",
        "    self.age = age\n",
        "    self.Lappy = self.Laptop()     # <= Calling inner class\n",
        "\n",
        "  class Laptop:                 # Inner Class\n",
        "    def __init__(self):\n",
        "      self.brand = \"Asus Rog Strix Scar 15\"\n",
        "      self.ram = \"64 GB\"\n",
        "      self.cpu  = \"Ryzen 9 5900 HX\"\n",
        "      self.graphics = \"RTX 3080 (16 GB VRAM)\"\n",
        "\n",
        "    def get_info(self):\n",
        "      return \"{} | {} | {} | {}\".format (self.brand,self.cpu,self.ram,self.graphics)\n",
        "\n",
        "\n",
        "s1 = Human(\"Raj\",\"20\")\n",
        "\n",
        "print (s1.name)\n",
        "print (s1.age)\n",
        "print (s1.Lappy.brand)        # Calling the Inner Class.\n",
        "print (s1.Lappy.get_info())   # Calling a method inside Inner Class"
      ],
      "execution_count": null,
      "outputs": [
        {
          "output_type": "stream",
          "text": [
            "Raj\n",
            "20\n",
            "Asus Rog Strix Scar 15\n",
            "Asus Rog Strix Scar 15 | Ryzen 9 5900 HX | 64 GB | RTX 3080 (16 GB VRAM)\n"
          ],
          "name": "stdout"
        }
      ]
    },
    {
      "cell_type": "markdown",
      "metadata": {
        "id": "i3fMhGOe4_1f"
      },
      "source": [
        "# **Inheritance**\n",
        "- It consist of a Parent Class and Child Class\n",
        "- The main class is considered a Parent Class\n",
        "- The Child Class inherits the properties of a Parent Class\n",
        "- So basically it has property of both Parent Class and itself.\n",
        "-Different Type of Inheritance are:\n",
        " - Single Level Inheritance\n",
        " - Multi Level Inheritance\n",
        " - Multiple Inheritance"
      ]
    },
    {
      "cell_type": "markdown",
      "metadata": {
        "id": "RQPfhcVyA2TN"
      },
      "source": [
        "**Single Level Inheritance**\n",
        "- Parent Class --> Child Class"
      ]
    },
    {
      "cell_type": "code",
      "metadata": {
        "colab": {
          "base_uri": "https://localhost:8080/"
        },
        "id": "OzEsOC9cpTFw",
        "outputId": "f412947b-e80d-475d-c7b9-40db0690e7c8"
      },
      "source": [
        "class Grandfather:                    # Parent Class\n",
        "  def locker1(self):\n",
        "    print(\"You can access Locker 1\")\n",
        "  def locker2(self):\n",
        "    print(\"You can access Locker 2\")\n",
        "\n",
        "class Grandson(Grandfather):          # Child Class (Here the class is inheriting Parent Class properties)\n",
        "  def bank_balance(self):\n",
        "    print(\"This is my Bank Balance\")\n",
        "\n",
        "Jay = Grandson()\n",
        "print(Jay.bank_balance())\n",
        "print(Jay.locker1())"
      ],
      "execution_count": null,
      "outputs": [
        {
          "output_type": "stream",
          "text": [
            "This is my Bank Balance\n",
            "None\n",
            "You can access Locker 1\n",
            "None\n"
          ],
          "name": "stdout"
        }
      ]
    },
    {
      "cell_type": "markdown",
      "metadata": {
        "id": "HHkcTwurA80C"
      },
      "source": [
        "**Multi Level Inheritance**\n",
        "- Parent Class --> Child Class --> Child of Child Class"
      ]
    },
    {
      "cell_type": "code",
      "metadata": {
        "colab": {
          "base_uri": "https://localhost:8080/"
        },
        "id": "O_V_5ASN8LVw",
        "outputId": "a6430c60-2be4-448f-d7c6-3cb364fd34df"
      },
      "source": [
        "class Grandfather:                    # Parent Class\n",
        "  def locker1(self):\n",
        "    print(\"You can access Locker 1\")\n",
        "  def locker2(self):\n",
        "    print(\"You can access Locker 2\")\n",
        "\n",
        "class Son(Grandfather):          # Child Class (Here the class is inheriting Parent Class properties)\n",
        "  def bank_balance(self):\n",
        "    print(\"This is my Bank Balance\")\n",
        "\n",
        "class Grandson(Son):             # This is Child Class of a Child Class as it is passing Multi Level)\n",
        "  def savings(self):\n",
        "    print(\"This is my savings\")\n",
        "\n",
        "Jay = Son()\n",
        "JayJunior = Grandson()\n",
        "print ('\\n Jay\\n')\n",
        "print(Jay.bank_balance())\n",
        "print(Jay.locker1())\n",
        "print ('\\n JayJunior\\n')\n",
        "print(JayJunior.savings())\n",
        "print(JayJunior.locker1())\n",
        "print(JayJunior.bank_balance())"
      ],
      "execution_count": null,
      "outputs": [
        {
          "output_type": "stream",
          "text": [
            "\n",
            " Jay\n",
            "\n",
            "This is my Bank Balance\n",
            "None\n",
            "You can access Locker 1\n",
            "None\n",
            "\n",
            " JayJunior\n",
            "\n",
            "This is my savings\n",
            "None\n",
            "You can access Locker 1\n",
            "None\n",
            "This is my Bank Balance\n",
            "None\n"
          ],
          "name": "stdout"
        }
      ]
    },
    {
      "cell_type": "markdown",
      "metadata": {
        "id": "0w_5wBdeF9Ug"
      },
      "source": [
        "**Multiple Inheritance**\n",
        "- Parent Class -->   Child of Child Class    <-- Child Class"
      ]
    },
    {
      "cell_type": "code",
      "metadata": {
        "colab": {
          "base_uri": "https://localhost:8080/"
        },
        "id": "kjvPDDtQB5pY",
        "outputId": "0d0b512c-9703-4450-ac8c-3f8406f9cbb2"
      },
      "source": [
        "class Grandfather:                    # Parent Class\n",
        "  def locker1(self):\n",
        "    print(\"You can access Locker 1\")\n",
        "  def locker2(self):\n",
        "    print(\"You can access Locker 2\")\n",
        "\n",
        "class Son:                            # Child Class \n",
        "  def bank_balance(self):\n",
        "    print(\"This is my Bank Balance\")\n",
        "\n",
        "class Grandson(Grandfather, Son):     # Inheriting Multiple Class properties\n",
        "  def savings(self):\n",
        "    print(\"This is my savings\")\n",
        "\n",
        "Jay = Son()\n",
        "JayJunior = Grandson()\n",
        "print ('\\n Jay\\n')\n",
        "print(Jay.bank_balance())\n",
        "print ('\\n JayJunior\\n')\n",
        "print(JayJunior.savings())\n",
        "print(JayJunior.locker1())\n",
        "print(JayJunior.bank_balance())"
      ],
      "execution_count": null,
      "outputs": [
        {
          "output_type": "stream",
          "text": [
            "\n",
            " Jay\n",
            "\n",
            "This is my Bank Balance\n",
            "None\n",
            "\n",
            " JayJunior\n",
            "\n",
            "This is my savings\n",
            "None\n",
            "You can access Locker 1\n",
            "None\n",
            "This is my Bank Balance\n",
            "None\n"
          ],
          "name": "stdout"
        }
      ]
    },
    {
      "cell_type": "markdown",
      "metadata": {
        "id": "ft_-wwOGIxAx"
      },
      "source": [
        "## Constructor in Inheritance\n",
        "- When a constructor is added to a Parent class it will initialize for the child class automatically.\n",
        "- When the Consturctor is not available in Child Class then it will search for a Constructor in a Parent Class and initialize it.\n",
        "- If the Child class has it's own constructor then it will initialize it's own constructor only."
      ]
    },
    {
      "cell_type": "code",
      "metadata": {
        "colab": {
          "base_uri": "https://localhost:8080/"
        },
        "id": "jupExKfCINOX",
        "outputId": "42169626-7621-42b9-e3e6-a4f2fabc2eb5"
      },
      "source": [
        "class Grandfather:                    # Parent Class\n",
        "  def __init__(self):                 # constructor\n",
        "    print ('I am Grandfather. Take my permission first')\n",
        "  def locker1(self):\n",
        "    print(\"You can access Locker 1\")\n",
        "  def locker2(self):\n",
        "    print(\"You can access Locker 2\")\n",
        "\n",
        "class Son(Grandfather):                            # Child Class \n",
        "  def bank_balance(self):\n",
        "    print(\"This is my Bank Balance\")\n",
        "\n",
        "raj = Son()"
      ],
      "execution_count": null,
      "outputs": [
        {
          "output_type": "stream",
          "text": [
            "I am Grandfather. Take my permission first\n"
          ],
          "name": "stdout"
        }
      ]
    },
    {
      "cell_type": "markdown",
      "metadata": {
        "id": "OncPpXxBJKTI"
      },
      "source": [
        "**Method Resolution Order (MRO)**\n",
        "- This is a part of Constructor in Inheritance\n",
        "- In case of a Child Class with Multiple Inheritance the Child Class will choose the left most Parent Class in the given order."
      ]
    },
    {
      "cell_type": "code",
      "metadata": {
        "id": "XZNrVe32JJQv",
        "colab": {
          "base_uri": "https://localhost:8080/"
        },
        "outputId": "c441d69b-af60-4094-9ba4-579963a5895b"
      },
      "source": [
        "class Grandfather:                    # Parent Class\n",
        "  def __init__(self):\n",
        "    print ('I am the Grandfather')\n",
        "  def locker1(self):\n",
        "    print(\"You can access Locker 1\")\n",
        "  def locker2(self):\n",
        "    print(\"You can access Locker 2\")\n",
        "\n",
        "class Son:                            # Parent Class \n",
        "  def __init__(self):\n",
        "    print ('I am the Son')\n",
        "  def bank_balance(self):\n",
        "    print(\"This is my Bank Balance\")\n",
        "\n",
        "class Grandson(Son, Grandfather):     # Child Class inheriting Multiple Class properties\n",
        "  def savings(self):\n",
        "    print(\"This is my savings\")\n",
        "\n",
        "Chintu = Grandson()"
      ],
      "execution_count": null,
      "outputs": [
        {
          "output_type": "stream",
          "text": [
            "I am the Son\n"
          ],
          "name": "stdout"
        }
      ]
    },
    {
      "cell_type": "markdown",
      "metadata": {
        "id": "k8-lrGnCJA3b"
      },
      "source": [
        "**super() in Inheritance**\n",
        "- Parent Class in Inheritance is called Super Class\n",
        "- Child Class in Inheritance is Called Sub Class\n",
        "- super() is used when you want to run any method of Parent class in the Child Class Constructor.\n",
        "- super() will initialsze the given parent class method or constructor in the Child Class constructor."
      ]
    },
    {
      "cell_type": "code",
      "metadata": {
        "id": "ZTQbtgGoJP79",
        "colab": {
          "base_uri": "https://localhost:8080/"
        },
        "outputId": "3e44ab96-3175-4a2d-e660-c388f3fcf066"
      },
      "source": [
        "class Grandfather:                    # Parent Class\n",
        "  def __init__(self):\n",
        "    print ('I am the Grandfather')\n",
        "  def locker1(self):\n",
        "    print(\"You can access Locker 1\")\n",
        "  def locker2(self):\n",
        "    print(\"You can access Locker 2\")\n",
        "\n",
        "class Son(Grandfather):               # Child Class \n",
        "  def __init__(self):\n",
        "    super(). __init__()               # <== Here we use the super command. \n",
        "    print ('I am the Son')\n",
        "  def bank_balance(self):\n",
        "    print(\"This is my Bank Balance\")\n",
        "  def show_locker(self):\n",
        "    super().locker2()                 # <== Here we use the super command again.\n",
        "\n",
        "  \n",
        "raj = Son()\n",
        "print(raj.show_locker())"
      ],
      "execution_count": null,
      "outputs": [
        {
          "output_type": "stream",
          "text": [
            "I am the Grandfather\n",
            "I am the Son\n",
            "You can access Locker 2\n",
            "None\n"
          ],
          "name": "stdout"
        }
      ]
    },
    {
      "cell_type": "markdown",
      "metadata": {
        "id": "FpAQtGcWzHF8"
      },
      "source": [
        "# **Polymorphism**\n",
        "- It is a way of persenting an object as per change or variation in its behaviour\n",
        "- Polymorphism is of 4 type:\n",
        " - Duck Typing\n",
        " - Operator Overloading\n",
        " - Method Overloading\n",
        " - Method Overriding\n"
      ]
    },
    {
      "cell_type": "markdown",
      "metadata": {
        "id": "0BH2h3A5D1n5"
      },
      "source": [
        "## **Duck Typing**\n",
        "- In this method all the properties of one class are called by Other class in the form of an object.\n",
        "- Here the object adopts all the attributes of a class and is executed in other class."
      ]
    },
    {
      "cell_type": "code",
      "metadata": {
        "id": "T3gnwC4axoj4",
        "colab": {
          "base_uri": "https://localhost:8080/"
        },
        "outputId": "9e693aee-40eb-4547-bd18-5de8f0665e9d"
      },
      "source": [
        "class Sublime:                # <== One Class with Attributes\n",
        "  def properties(self):\n",
        "    print('Fast')\n",
        "    print('Accurate')\n",
        "    print('Interpreted')\n",
        "\n",
        "class Python:                 # <== Second Class with Attributes\n",
        "  def execute(self, ide):     # <== Object ide will adopt Sublime Class attributes \n",
        "    print ('Executed')\n",
        "    ide.properties()\n",
        "\n",
        "ide = Sublime()               # <== Assigning Sublime class to an Object ide\n",
        "pm = Python()\n",
        "pm.execute(ide)               # <== Executing the properties of One class through Object"
      ],
      "execution_count": null,
      "outputs": [
        {
          "output_type": "stream",
          "text": [
            "Executed\n",
            "Fast\n",
            "Accurate\n",
            "Interpreted\n"
          ],
          "name": "stdout"
        }
      ]
    },
    {
      "cell_type": "markdown",
      "metadata": {
        "id": "ldWJyku_Rvfy"
      },
      "source": [
        "*Magic Methods*"
      ]
    },
    {
      "cell_type": "code",
      "metadata": {
        "colab": {
          "base_uri": "https://localhost:8080/"
        },
        "id": "UFylsIH5R4Wz",
        "outputId": "93484f4d-54bd-4079-c79f-8bbb2c7f3696"
      },
      "source": [
        "# If we want to add 2 integers or two string we do :\n",
        "a = 45+55\n",
        "b = \"abc\" + \"cdf\"\n",
        "print(a)\n",
        "print(b)\n",
        "\n",
        "# Instead we can use the magic methods as well:\n",
        "c = int. __add__(50,55)\n",
        "d = str. __add__(\"ghi\", \"jkl\")\n",
        "print (c)\n",
        "print (d)"
      ],
      "execution_count": null,
      "outputs": [
        {
          "output_type": "stream",
          "text": [
            "100\n",
            "abccdf\n",
            "105\n",
            "ghijkl\n"
          ],
          "name": "stdout"
        }
      ]
    },
    {
      "cell_type": "markdown",
      "metadata": {
        "id": "EneOVWG6QZT7"
      },
      "source": [
        "## **Operator Overloading**\n",
        "- To perform basic operations we have operators like (+, -, *, /)\n",
        "- The functions of this operators is to perform operation on the given variables\n",
        "- By default these operators perform on vatiables only and not the objects.\n",
        "- So to perform the operation on the objects we do Operator Overloading\n",
        "- We use Magic Method to perform this operation.\n",
        "- Using Magic Method we perfrom the operation from the **Class (self)** and  **Magic Method (other)**  and return the output. "
      ]
    },
    {
      "cell_type": "code",
      "metadata": {
        "colab": {
          "base_uri": "https://localhost:8080/"
        },
        "id": "BtDhcbp6XMro",
        "outputId": "bf279668-9dc5-4bd1-a78f-b8877d1da4ae"
      },
      "source": [
        "class Student:                      # Class Student has 2 Objects M1, M2\n",
        "  def __init__(self, M1, M2):\n",
        "    self.M1 = M1\n",
        "    self.M2 = M2\n",
        "  def __add__(self, other):         # Here we write a Magic Method to add 2 objects\n",
        "    marks1 = self.M1 + other.M1     # Obj 1 (self from init) and Obj 2 (Other from Magic Method)\n",
        "    marks2 = self.M2 + other.M2\n",
        "    marks3 = Student(marks1, marks2)\n",
        "    return marks3\n",
        "\n",
        "Ram = Student(45, 65)\n",
        "Shyam = Student(78, 98)\n",
        "\n",
        "Marks_Total = Ram + Shyam            # Here we assign object to the variable \"Marks_ Total\"\n",
        "print(Marks_Total.M1, Marks_Total.M2) # Printing Marks_Total"
      ],
      "execution_count": null,
      "outputs": [
        {
          "output_type": "stream",
          "text": [
            "123 163\n"
          ],
          "name": "stdout"
        }
      ]
    },
    {
      "cell_type": "markdown",
      "metadata": {
        "id": "x9w-tA-nljGq"
      },
      "source": [
        "## **Method OverLoading**\n",
        "- The concept of Method Overloading says that when we have multiple methods of the same name in a class but with different variables, then the program implements an appropriate method automatically based on the number of varibles input by the user.\n",
        "- In reality there is no method overloading concept in python like any other programming languages.\n",
        "- We can create a walk around like method overloading in Python.\n",
        "\n"
      ]
    },
    {
      "cell_type": "code",
      "metadata": {
        "colab": {
          "base_uri": "https://localhost:8080/"
        },
        "id": "OBzOCZVBG7ZD",
        "outputId": "eebc0a3b-a82c-4ac7-d1c4-3c2a9fab1da4"
      },
      "source": [
        "# Method overloading should be like this but this is not supported in python\n",
        "# This is just for understanding the concept.\n",
        "\n",
        "# class Student:                      # Class Student has 2 Objects M1, M2\n",
        "#   def __init__(self,M1, M2):\n",
        "#     self.M1 = M1\n",
        "#     self.M2 = M2\n",
        "#   def Show(a):\n",
        "#     #### with 1 parameter\n",
        "#   def Show(a,b):\n",
        "#     #### with 2 parameters\n",
        "#   def Show(a,b,c):\n",
        "#     #### with 3 parameters\n",
        "\n",
        "# The above approach will give error, So we implement a walkthrough in python\n",
        "# using If-Else statement for method overloading.\n",
        "\n",
        "class Student:                      # Class Student has 2 Objects M1, M2\n",
        "  def __init__(self,M1, M2):\n",
        "    self.M1 = M1\n",
        "    self.M2 = M2\n",
        "  def Show(self, a=None, b=None, c=None, d=None): #(giving Conditions for method overloading)\n",
        "    shw = 0\n",
        "    if (a!=None and b!=None and c!=None and d!=None):\n",
        "      shw = a*b*c*d\n",
        "    elif (a!=None and b!=None and c!=None):\n",
        "      shw = a*b*c\n",
        "    elif (a!=None and b!=None):\n",
        "      shw = a*b\n",
        "    else:\n",
        "      shw = a\n",
        "    return shw \n",
        "\n",
        "Ram = Student(45, 65)\n",
        "print (Ram.Show(10,2,5))\n",
        "print (Ram.Show(45,55))\n",
        "print (Ram.Show(4))\n",
        "print (Ram.Show(1,2,3,4))\n"
      ],
      "execution_count": 3,
      "outputs": [
        {
          "output_type": "stream",
          "text": [
            "100\n",
            "2475\n",
            "4\n",
            "24\n"
          ],
          "name": "stdout"
        }
      ]
    },
    {
      "cell_type": "markdown",
      "metadata": {
        "id": "o4aSc4jAaT7K"
      },
      "source": [
        "## **Method Overriding**\n",
        "- Method Overriding is also not supported in python just like Method Overloading. We have to implement a walk around to get the work done.\n",
        "- For implementing Method Overriding we use the concept of Inheritance. Instead of using \"__ init __\" we name the method. "
      ]
    },
    {
      "cell_type": "code",
      "metadata": {
        "colab": {
          "base_uri": "https://localhost:8080/"
        },
        "id": "2-QFNx4dgmtp",
        "outputId": "19d2ec97-1fb7-4619-b820-49e46368c267"
      },
      "source": [
        "class Father:\n",
        "  def access (self):            # <== Here we create a method named access\n",
        "    print (\"Father's Locker\")\n",
        "  \n",
        "class Son(Father):\n",
        "  def access(self):             # <== Here we create another method with same name\n",
        "    print(\"Son's Locker\")\n",
        "\n",
        "s1 = Son()\n",
        "print(s1.access())\n",
        "s1 = Father()\n",
        "print(s1.access())"
      ],
      "execution_count": 6,
      "outputs": [
        {
          "output_type": "stream",
          "text": [
            "Son's Locker\n",
            "None\n",
            "Father's Locker\n",
            "None\n"
          ],
          "name": "stdout"
        }
      ]
    },
    {
      "cell_type": "markdown",
      "metadata": {
        "id": "jD6boni1zHCh"
      },
      "source": [
        "# **Abstraction**\n",
        "- Abstraction is a concept class or an adjective class that defines other class or methods eg: Product Class for Mobile class or Shoes Class.\n",
        "- So we do not create object of Abstraction Class as it is a parent class or  generic class\n",
        "- We import a library **from abc import ABCMeta, abstractmethod**\n",
        "- We attach this function to a class to make it Abstraction Class eg:\n",
        "- ***class Product(metaclass = ABCMeta):***\n",
        "- usually the parent class is an abstract class\n",
        "- Abstract class should not be instantiated.\n",
        "- If a class has an abstract method then the class cannot be instantiated.\n",
        "- Abstract Class are ment to be inherited.\n",
        "- The child class must implement / override all Abstract methods of the parent class. Else the child class cannot be instantiated."
      ]
    },
    {
      "cell_type": "code",
      "metadata": {
        "id": "c2-ew-zlFf_P"
      },
      "source": [
        "from abc import ABCMeta, abstractmethod\n",
        "class Product(metaclass = ABCMeta):\n",
        "  @abstractmethod                   # <== Here we used a decorator\n",
        "  def return_policy(self):          # We force this method to child class as well\n",
        "    pass\n",
        "\n",
        "class Furniture(Product):\n",
        "  def return_policy(self):\n",
        "    print(\" 10 Days return back policy\")"
      ],
      "execution_count": null,
      "outputs": []
    },
    {
      "cell_type": "markdown",
      "metadata": {
        "id": "rJ5OV8feHcL2"
      },
      "source": [
        "# **Importing a Class in Python**\n",
        "- In the OOPs concept we create multiple classes and import them so that we can create an organised piece of code.\n",
        "- Import commands by making .py file and calling the file and its class for eg :\n",
        "\"**import abc**\" or \"**from abc import class()**\" or by giving alias \"**from abc import class as a**\".\n",
        "- Also we make use of **if __ name__ == \"__ main__\":**  so we can avoid any free executable code within the class.\n",
        "- Importing a class makes the entire set of code easy to understand and access. "
      ]
    },
    {
      "cell_type": "code",
      "metadata": {
        "id": "tYOzCIRdh9Ym",
        "colab": {
          "base_uri": "https://localhost:8080/"
        },
        "outputId": "9f581fd3-abce-4eee-a885-f48789612924"
      },
      "source": [
        "class Student:\n",
        "  def __init__(self, science, history, evs):\n",
        "    self.science = science\n",
        "    self.history = history\n",
        "    self.evs = evs\n",
        "\n",
        "  def get_avg(self):\n",
        "    return (self.science + self.history + self.evs)/ 3\n",
        "\n",
        "\n",
        "def main():\n",
        "  ram = Student(78, 88, 98)\n",
        "  shyam = Student(45, 55, 65)\n",
        "  print(ram.get_avg())\n",
        "  print(shyam.get_avg())\n",
        "\n",
        "if __name__ == \"__main__\": main()\n",
        "\n",
        "# For importing we will save this in a school.py file and use:\n",
        "# from school import Students\n",
        "# NOTE: school.py file should be saved in the same folder as this file."
      ],
      "execution_count": 8,
      "outputs": [
        {
          "output_type": "stream",
          "text": [
            "88.0\n",
            "55.0\n"
          ],
          "name": "stdout"
        }
      ]
    },
    {
      "cell_type": "markdown",
      "metadata": {
        "id": "E4HlgEuuvMqG"
      },
      "source": [
        "# **Multi Threading**\n",
        "- Thread means a set of code and Multi Threading means executing Multiple set of codes given together.\n",
        "- They are of two types:\n",
        "  - Asynchronous\n",
        "  - Synchronous\n",
        "- Synchronous means a new task will only be executed unless the given task is completed. Task 1 runs and Task 2 waits for Tsk 1 to complete. This is not the most efficient way of operation\n",
        "- Asynchronous means executing multiple task at the same time. Task 1 and Task 2 are operated together. This is a preferred way of operation.\n",
        "- We use a library **from threading import Thread**\n",
        "- To execute we use .start().\n",
        "- To slow down the process we use time module.\n",
        "- **from time import sleep**\n",
        "- we give wait time in seconds: sleep(1) = 1 second\n",
        "- There is always a main thread running in the background.\n",
        "- To ececute the further code that is not a part of multi threading, we join all the threads after their coompletion and excute the further program.\n",
        "- We join the threads using .join() function."
      ]
    },
    {
      "cell_type": "code",
      "metadata": {
        "colab": {
          "base_uri": "https://localhost:8080/"
        },
        "id": "u7FifnR0DCWa",
        "outputId": "44e89ea1-974b-4826-d2d0-0bf6fee744a5"
      },
      "source": [
        "from threading import Thread\n",
        "from time import sleep\n",
        "\n",
        "class Rohan(Thread):  # <== We are using thread here\n",
        "  def run(self):\n",
        "    for i in range(5):\n",
        "      print(\"Rohan\")\n",
        "      sleep(1)        # <== We are using sleep here\n",
        "\n",
        "class Mohan(Thread):  # <== We are using thread here\n",
        "  def run(self):\n",
        "    for i in range(5):\n",
        "      print(\"Mohan\")\n",
        "      sleep(1)        # <== We are using sleep here\n",
        "\n",
        "r1 = Rohan()\n",
        "m1 = Mohan()\n",
        "r1.start()            # Here we initiate the threading function using .start()\n",
        "m1.start()\n",
        "\n",
        "r1.join()   # basically .join() does is wait for the completed task to join. \n",
        "m1.join()\n",
        "print(\"End\")"
      ],
      "execution_count": 19,
      "outputs": [
        {
          "output_type": "stream",
          "text": [
            "Rohan\n",
            "Mohan\n",
            "Rohan\n",
            "Mohan\n",
            "Rohan\n",
            "Mohan\n",
            "Rohan\n",
            "Mohan\n",
            "Rohan\n",
            "Mohan\n",
            "End\n"
          ],
          "name": "stdout"
        }
      ]
    },
    {
      "cell_type": "code",
      "metadata": {
        "id": "aha7MJcXzInM"
      },
      "source": [
        ""
      ],
      "execution_count": null,
      "outputs": []
    }
  ]
}